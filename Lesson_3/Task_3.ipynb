{
 "cells": [
  {
   "cell_type": "markdown",
   "metadata": {},
   "source": [
    "## Практическое задание\n",
    "\n",
    "<ol>\n",
    "    <li>Попробуйте обучить нейронную сеть на TensorFlow 2 на любом датасете imdb_reviews. \n",
    "        Опишите в комментарии к уроку - какой результата вы добились от нейросети? Что помогло вам улучшить ее точность?<br><br>\n",
    "    </li>\n",
    "    <li>*2. Поработайте с документацией TensorFlow 2. Найдите полезные команды не разобранные на уроке.</li>\n",
    "    \n",
    "    \n",
    "</ol>"
   ]
  },
  {
   "cell_type": "code",
   "execution_count": 2,
   "metadata": {},
   "outputs": [
    {
     "name": "stdout",
     "output_type": "stream",
     "text": [
      "Collecting tensorflow_hub\n",
      "  Downloading tensorflow_hub-0.8.0-py2.py3-none-any.whl (101 kB)\n",
      "Requirement already satisfied: numpy>=1.12.0 in c:\\users\\kashe\\anaconda3\\lib\\site-packages (from tensorflow_hub) (1.18.1)\n",
      "Requirement already satisfied: protobuf>=3.8.0 in c:\\users\\kashe\\anaconda3\\lib\\site-packages (from tensorflow_hub) (3.11.3)\n",
      "Requirement already satisfied: six>=1.12.0 in c:\\users\\kashe\\anaconda3\\lib\\site-packages (from tensorflow_hub) (1.14.0)\n",
      "Requirement already satisfied: setuptools in c:\\users\\kashe\\anaconda3\\lib\\site-packages (from protobuf>=3.8.0->tensorflow_hub) (45.2.0.post20200210)\n",
      "Installing collected packages: tensorflow-hub\n",
      "Successfully installed tensorflow-hub-0.8.0\n",
      "Collecting tensorflow_datasets\n",
      "  Downloading tensorflow_datasets-3.0.0-py3-none-any.whl (3.3 MB)\n",
      "Requirement already satisfied: future in c:\\users\\kashe\\anaconda3\\lib\\site-packages (from tensorflow_datasets) (0.18.2)\n",
      "Collecting tensorflow-metadata\n",
      "  Downloading tensorflow_metadata-0.21.2-py2.py3-none-any.whl (31 kB)\n",
      "Requirement already satisfied: requests>=2.19.0 in c:\\users\\kashe\\anaconda3\\lib\\site-packages (from tensorflow_datasets) (2.22.0)\n",
      "Requirement already satisfied: termcolor in c:\\users\\kashe\\anaconda3\\lib\\site-packages (from tensorflow_datasets) (1.1.0)\n",
      "Requirement already satisfied: wrapt in c:\\users\\kashe\\anaconda3\\lib\\site-packages (from tensorflow_datasets) (1.11.2)\n",
      "Collecting promise\n",
      "  Downloading promise-2.3.tar.gz (19 kB)\n",
      "Collecting dill\n",
      "  Downloading dill-0.3.1.1.tar.gz (151 kB)\n",
      "Requirement already satisfied: numpy in c:\\users\\kashe\\anaconda3\\lib\\site-packages (from tensorflow_datasets) (1.18.1)\n",
      "Requirement already satisfied: protobuf>=3.6.1 in c:\\users\\kashe\\anaconda3\\lib\\site-packages (from tensorflow_datasets) (3.11.3)\n",
      "Requirement already satisfied: six in c:\\users\\kashe\\anaconda3\\lib\\site-packages (from tensorflow_datasets) (1.14.0)\n",
      "Requirement already satisfied: attrs>=18.1.0 in c:\\users\\kashe\\anaconda3\\lib\\site-packages (from tensorflow_datasets) (19.3.0)\n",
      "Requirement already satisfied: absl-py in c:\\users\\kashe\\anaconda3\\lib\\site-packages (from tensorflow_datasets) (0.9.0)\n",
      "Requirement already satisfied: tqdm in c:\\users\\kashe\\anaconda3\\lib\\site-packages (from tensorflow_datasets) (4.42.1)\n",
      "Collecting googleapis-common-protos\n",
      "  Downloading googleapis-common-protos-1.51.0.tar.gz (35 kB)\n",
      "Requirement already satisfied: chardet<3.1.0,>=3.0.2 in c:\\users\\kashe\\anaconda3\\lib\\site-packages (from requests>=2.19.0->tensorflow_datasets) (3.0.4)\n",
      "Requirement already satisfied: certifi>=2017.4.17 in c:\\users\\kashe\\anaconda3\\lib\\site-packages (from requests>=2.19.0->tensorflow_datasets) (2019.11.28)\n",
      "Requirement already satisfied: idna<2.9,>=2.5 in c:\\users\\kashe\\anaconda3\\lib\\site-packages (from requests>=2.19.0->tensorflow_datasets) (2.8)\n",
      "Requirement already satisfied: urllib3!=1.25.0,!=1.25.1,<1.26,>=1.21.1 in c:\\users\\kashe\\anaconda3\\lib\\site-packages (from requests>=2.19.0->tensorflow_datasets) (1.25.8)\n",
      "Requirement already satisfied: setuptools in c:\\users\\kashe\\anaconda3\\lib\\site-packages (from protobuf>=3.6.1->tensorflow_datasets) (45.2.0.post20200210)\n",
      "Building wheels for collected packages: promise, dill, googleapis-common-protos\n",
      "  Building wheel for promise (setup.py): started\n",
      "  Building wheel for promise (setup.py): finished with status 'done'\n",
      "  Created wheel for promise: filename=promise-2.3-py3-none-any.whl size=21499 sha256=e34816a8cc7bdc02093972316010cad239d57068ef7bfc544e67122d54bf7461\n",
      "  Stored in directory: c:\\users\\kashe\\appdata\\local\\pip\\cache\\wheels\\29\\93\\c6\\762e359f8cb6a5b69c72235d798804cae523bbe41c2aa8333d\n",
      "  Building wheel for dill (setup.py): started\n",
      "  Building wheel for dill (setup.py): finished with status 'done'\n",
      "  Created wheel for dill: filename=dill-0.3.1.1-py3-none-any.whl size=78597 sha256=1cee4c368e252665451692181c74ba836415753727ccd188650f6425d460af2e\n",
      "  Stored in directory: c:\\users\\kashe\\appdata\\local\\pip\\cache\\wheels\\a4\\61\\fd\\c57e374e580aa78a45ed78d5859b3a44436af17e22ca53284f\n",
      "  Building wheel for googleapis-common-protos (setup.py): started\n",
      "  Building wheel for googleapis-common-protos (setup.py): finished with status 'done'\n",
      "  Created wheel for googleapis-common-protos: filename=googleapis_common_protos-1.51.0-py3-none-any.whl size=77602 sha256=1a9a0072a797c132a8bbd612d02847b0dfd59d976ace5605568a55efc8fa5970\n",
      "  Stored in directory: c:\\users\\kashe\\appdata\\local\\pip\\cache\\wheels\\4c\\a1\\71\\5e427276ceeff277fd76878d1b19fbf4587a2845015d86864b\n",
      "Successfully built promise dill googleapis-common-protos\n",
      "Installing collected packages: googleapis-common-protos, tensorflow-metadata, promise, dill, tensorflow-datasets\n",
      "Successfully installed dill-0.3.1.1 googleapis-common-protos-1.51.0 promise-2.3 tensorflow-datasets-3.0.0 tensorflow-metadata-0.21.2\n"
     ]
    }
   ],
   "source": [
    "!pip install tensorflow_hub\n",
    "!pip install tensorflow_datasets"
   ]
  },
  {
   "cell_type": "code",
   "execution_count": 3,
   "metadata": {},
   "outputs": [],
   "source": [
    "from __future__ import absolute_import, division, print_function, unicode_literals\n",
    "\n",
    "import numpy as np\n",
    "\n",
    "import tensorflow as tf\n",
    "\n",
    "import tensorflow_hub as hub\n",
    "import tensorflow_datasets as tfds"
   ]
  },
  {
   "cell_type": "code",
   "execution_count": 4,
   "metadata": {},
   "outputs": [
    {
     "name": "stdout",
     "output_type": "stream",
     "text": [
      "Version:  2.1.0\n",
      "Eager mode:  True\n",
      "Hub version:  0.8.0\n",
      "GPU is NOT AVAILABLE\n"
     ]
    }
   ],
   "source": [
    "print(\"Version: \", tf.__version__)\n",
    "print(\"Eager mode: \", tf.executing_eagerly())\n",
    "print(\"Hub version: \", hub.__version__)\n",
    "print(\"GPU is\", \"available\" if tf.config.experimental.list_physical_devices(\"GPU\") else \"NOT AVAILABLE\")"
   ]
  },
  {
   "cell_type": "markdown",
   "metadata": {},
   "source": [
    "### Скачиваем Dataset"
   ]
  },
  {
   "cell_type": "code",
   "execution_count": 20,
   "metadata": {},
   "outputs": [],
   "source": [
    "# Разобьем обучающую выборку в пропорции 60% на 40%, и у нас будет 15,000 примеров\n",
    "# для обучения, 10,000 примеров для валидации и 25,000 примеров для проверки.\n",
    "(train_data, validation_data, raw_test), test_data = tfds.load(\n",
    "    name=\"imdb_reviews\", \n",
    "    split=('train[:30%]','train[30%:50%]', 'train[50%:]'),\n",
    "    with_info=True,\n",
    "    as_supervised=True)"
   ]
  },
  {
   "cell_type": "code",
   "execution_count": 21,
   "metadata": {},
   "outputs": [
    {
     "data": {
      "text/plain": [
       "<tf.Tensor: shape=(10,), dtype=string, numpy=\n",
       "array([b'This is a big step down after the surprisingly enjoyable original. This sequel isn\\'t nearly as fun as part one, and it instead spends too much time on plot development. Tim Thomerson is still the best thing about this series, but his wisecracking is toned down in this entry. The performances are all adequate, but this time the script lets us down. The action is merely routine and the plot is only mildly interesting, so I need lots of silly laughs in order to stay entertained during a \"Trancers\" movie. Unfortunately, the laughs are few and far between, and so, this film is watchable at best.',\n",
       "       b\"Perhaps because I was so young, innocent and BRAINWASHED when I saw it, this movie was the cause of many sleepless nights for me. I haven't seen it since I was in seventh grade at a Presbyterian school, so I am not sure what effect it would have on me now. However, I will say that it left an impression on me... and most of my friends. It did serve its purpose, at least until we were old enough and knowledgeable enough to analyze and create our own opinions. I was particularly terrified of what the newly-converted post-rapture Christians had to endure when not receiving the mark of the beast. I don't want to spoil the movie for those who haven't seen it so I will not mention details of the scenes, but I can still picture them in my head... and it's been 19 years.\",\n",
       "       b'Hood of the Living Dead had a lot to live up to even before the opening credits began. First, any play on \"...of the living dead\" invokes His Holiness Mr. Romero and instantly sets up a high standard to which many movies cannot afford to aspire. And second, my movie-watching companion professed doubt that any urban horror film would surpass the seminal Leprechaun In the Hood. Skeptical, we settled in to watch. <br /><br />We were rewarded with a surprisingly sincere and good-hearted zombie film. Oh, certainly the budget is low, and of course the directors\\' amateurs friends populate the cast, but Hood of the Living Dead loves zombie cinema. Cheap? Yeah. But when it\\'s this cheap, you can clearly see where LOVE holds it together. <br /><br />Ricky works in a lab during the day and as a surrogate parent to his younger brother at night. He dreams of moving out of Oakland. Before this planned escape, however, his brother is shot to death in a drive-by. Ricky\\'s keen scientific mind presents an option superior to CPR or 911: injections of his lab\\'s experimental regenerative formula. Sadly, little bro wakes up in an ambulance as a bloodthirsty Oakland zombie! Chaos and mayhem! I think it\\'s more economical to eat your enemies than take vengeance in a drive-by, but then again, I\\'m a poor judge of the complexities of urban life. (How poor a judge? In response to a gory scene involving four men, I opined \"Ah-ha! White t-shirts on everyone so the blood shows up. Economical! I used the same technique in my own low-budget horror film.\" Jordan replied, \"No, that\\'s gang dress. White t-shirts were banned from New Orleans bars for a time as a result.\" Oh.)<br /><br />A lot of the movie is set in someone\\'s living room, so there\\'s a great deal of hanging out and waiting for the zombies. But the characters are sympathetic and the movie is sincere-- it surpasses its budget in spirit. <br /><br />Zombie explanation: When man plays God, zombies arise! Or, perhaps: Follow FDA-approved testing rules before human experimentation! <br /><br />Contribution to the zombie canon: This is the first zombie movie I\\'ve seen with a drive-by shooting. As far as the actual zombies go, infection is spread with a bite as usual, but quite unusually head shots don\\'t work-- it\\'s heart shots that kill. Zombies have pulses, the absence of which proves true death. And these zombies make pretty cool jaguar-growl noises. <br /><br />Gratuitous zombie movie in-joke: A mercenary named Romero. Groan. <br /><br />Favorite zombie: Jaguar-noise little brother zombie, of course!',\n",
       "       b\"For me this is a story that starts with some funny jokes regarding Franks fanatasies when he is travelling with a staircase and when he is sitting in business meetings... The problem is that when you have been watching this movie for an hour you will see the same fantasies/funny situations again and again and again. It is to predictable. It is more done as a TV story where you can go away and come back without missing anything.<br /><br />I like Felix Herngren as Frank but that is not enough even when it is a comedy it has to have more variations and some kind of message to it's audience....<br /><br />\",\n",
       "       b'This is not a bad movie. It follows the new conventions of modern horror, that is the movie within a movie, the well known actress running for her life in the first scene. This movie takes the old convention of a psycho killer on he loose, and manage to do something new, and interesting with it. It is also always nice to see Molly Ringwald back for the attack.<br /><br />So this might be an example of what the genre has become. Cut hits all the marks, and is actually scary in some parts. I liked it I gave it an eight.',\n",
       "       b\"I just finished a marathon of this series, and it became agonising to watch as it progressed. From the fictionalising of the historical elements, to O'Herlihy's awful accent in later episodes, the show just slumps the further it goes. If you are looking for some low quality production generalised WW2 fluff, then I could recommend season 1, but avoid anything after that, it degenerates into being one step from a soap opera, with increasingly worse story lines and sensibility.<br /><br />The old B&W film is by far the best of any form of entertainment with the Colditz name attached to it, and even that is not what one could hope for.\",\n",
       "       b'I am very sorry that this charming and whimsical film (which I first saw soon after it was first released in the early fifties) has had such a poor reception more recently. In my opinion it has been greatly underrated - but perhaps it appeals more to the European sense of humour than to (for example) the American: maybe we in Europe can understand and appreciate its subtleties and situations more, since we are closer to some of them in real life! Particular mention should be made of the limited but good music - especially the catchy and memorable song \"It\\'s a fine, fine night\", which was issued separately on an HMV 78rpm record (10 inch plum label, I think!) in the fifties. I would urge anyone interested to give it a try if you get the chance: you may have a pleasant surprise.',\n",
       "       b\"Well i am going to go against the grain on this film so it seems. Being a self confessed horror fan I sat down to this not quite knowing what to expect. After 2 or 3 mins i actually found myself scared (quite rare). The film obviously has a small budget and is set around charing cross station but the films lack of money does not distract from the story. Yes the story is a bit far fetched and doesn't explain itself very well but THE CREEP is a class act and proceeds to slash and dismember anything that comes its way. MESSAGE FOR LADIES !!! THERE ARE CERTAIN PARTS OF THE FILM YOU SHOULD CLOSE YOUR EYES AT OR AT LEAST CROSS YOUR LEGS !! you will understand when you see it.<br /><br />All in all a good film and it makes a change to see a good slasher movie that actually scares\",\n",
       "       b'Even 15 years after the end of the Vietnam war \"Jacknife\" came not too late or was even superfluous. It\\'s one of the few that try to deal with the second sad side of the war: The time after. Different from movies like \"Taxi driver\" or \"Rambo\" which use to present their main characters as broken heroes in a bad after war environment this movie allows the audience to face a different view on the Vietnam vets. Their development is shown very precisely before and especially after the war. The problems are obvious but in all this tragic there is always the feeling of some hope on the basis of love and friendship. \"Jacknife\" might be the quietest Vietnam movie ever but after almost 15 years this is really plausible and therefor justified. Moreover, it can make us believe that the war has not finished, yet; at least for some of us.<br /><br />The three main characters are amazing. De Niro has done one of his best jobs but Ed Harris is the star of this movie. Possibly,this was his best performance ever.',\n",
       "       b'Before I explain the \"Alias\" comment let me say that \"The Desert Trail\" is bad even by the standards of westerns staring The Three Stooges. In fact it features Carmen Laroux as semi- bad girl Juanita, when you hear her Mexican accent you will immediately recognize her as Senorita Rita from the classic Stooge short \"Saved by the Belle\". <br /><br />In \"The Desert Trail\" John Wayne gets to play the Moe Howard character and Eddy Chandler gets to play Curly Howard. Like their Stooge counterparts a running gag throughout the 53- minute movie is Moe hitting Curly. Wayne\\'s character, a skirt chasing bully, is not very endearing, but is supposed to be the good guy. <br /><br />Playing a traveling rodeo cowboy Wayne holds up the rodeo box office at gunpoint and takes the prize money he would have won if the attendance proceeds had been good-the other riders have to settle for 25 cents on the dollar (actually even less after Wayne robs the box office). No explanation is given for Wayne\\'s ripping off the riders and still being considered the hero who gets the girl. <br /><br />Things get complicated at this point because the villain (Al Ferguson) and his sidekick Larry Fine (played by Paul Fix-who would go on to play Sheriff Micah on television\\'s \"The Rifleman\") see Wayne rob the box office and then steal the remainder of the money and kill the rodeo manager. Moe and Curly get blamed. <br /><br />So Moe and Curly move to another town to get away from the law and they change their names to Smith and Jones. Who do they meet first but their old friend Larry, whose sister becomes the 2nd half love interest (Senorita Rita is left behind it the old town and makes no further appearances in the movie). <br /><br />Larry\\'s sister is nicely played by a radiantly beautiful Mary Kornman (now grown up but in her younger days she was one of the original cast members of Hal Roach\\'s \"Our Gang\" shorts). Kornman is the main reason to watch the mega-lame western and her scenes with Moe and Curly are much better than any others in the production, as if they used an entirely different crew to film them. <br /><br />Even for 1935 the action sequences in this thing are extremely weak and the technical film- making is staggeringly bad. The two main chase scenes end with stock footage wide shots of a rider falling from a horse. Both times the editor cuts to a shot of one of the characters rolling on the ground, but there is no horse in the frame, the film stock is completely different, and the character has on different clothes than the stunt rider. There is liberal use of stock footage in other places, none of it even remotely convincing. <br /><br />One thing to watch for is a scene midway into the movie where Moe and Curly get on their horses and ride away (to screen right) from a cabin as the posse is galloping toward the cabin from the left. The cameraman follows the two stooges with a slow pan right and then does a whip pan to the left to reveal the approaching posse. Outside of home movies I have never seen anything like this, not because it is looks stupid (which it does) but because a competent director would never stage a scene in this manner. They would film the two riders leaving and then reposition the camera and film the posse approaching as a separate action. Or if they were feeling creative they would stage the sequence so the camera shows the riders in the foreground and the posse approaching in the background. <br /><br />Then again, what do I know? I\\'m only a child.'],\n",
       "      dtype=object)>"
      ]
     },
     "execution_count": 21,
     "metadata": {},
     "output_type": "execute_result"
    }
   ],
   "source": [
    "train_examples_batch, train_labels_batch = next(iter(train_data.batch(10)))\n",
    "train_examples_batch"
   ]
  },
  {
   "cell_type": "code",
   "execution_count": 22,
   "metadata": {},
   "outputs": [
    {
     "data": {
      "text/plain": [
       "<tf.Tensor: shape=(10,), dtype=int64, numpy=array([0, 0, 1, 0, 1, 0, 1, 1, 1, 0], dtype=int64)>"
      ]
     },
     "execution_count": 22,
     "metadata": {},
     "output_type": "execute_result"
    }
   ],
   "source": [
    "train_labels_batch"
   ]
  },
  {
   "cell_type": "markdown",
   "metadata": {},
   "source": [
    "### Построение модели"
   ]
  },
  {
   "cell_type": "code",
   "execution_count": 24,
   "metadata": {},
   "outputs": [
    {
     "data": {
      "text/plain": [
       "<tf.Tensor: shape=(3, 20), dtype=float32, numpy=\n",
       "array([[ 2.209591  , -2.7093675 ,  3.6802928 , -1.0291991 , -4.1671185 ,\n",
       "        -2.4566064 , -2.2519937 , -0.36589956,  1.9485804 , -3.1104462 ,\n",
       "        -2.4610963 ,  1.3139242 , -0.9161584 , -0.16625322, -3.723651  ,\n",
       "         1.8498232 ,  3.499562  , -1.2373022 , -2.8403084 , -1.213074  ],\n",
       "       [ 1.9055302 , -4.11395   ,  3.6038654 ,  0.28555924, -4.658998  ,\n",
       "        -5.5433393 , -3.2735848 ,  1.9235417 ,  3.8461034 ,  1.5882455 ,\n",
       "        -2.64167   ,  0.76057523, -0.14820506,  0.9115291 , -6.45758   ,\n",
       "         2.3990374 ,  5.0985413 , -3.2776263 , -3.2652326 , -1.2345369 ],\n",
       "       [ 3.6510668 , -4.7066135 ,  4.71003   , -1.7002777 , -3.7708545 ,\n",
       "        -3.709126  , -4.222776  ,  1.946586  ,  6.1182513 , -2.7392752 ,\n",
       "        -5.4384456 ,  2.7078724 , -2.1263676 , -0.7084146 , -5.893995  ,\n",
       "         3.1602864 ,  3.8389287 , -3.318196  , -5.1542974 , -2.4051712 ]],\n",
       "      dtype=float32)>"
      ]
     },
     "execution_count": 24,
     "metadata": {},
     "output_type": "execute_result"
    }
   ],
   "source": [
    "embedding = \"https://tfhub.dev/google/tf2-preview/gnews-swivel-20dim/1\"\n",
    "hub_layer = hub.KerasLayer(embedding, input_shape=[], \n",
    "                           dtype=tf.string, trainable=True)\n",
    "hub_layer(train_examples_batch[:3])"
   ]
  },
  {
   "cell_type": "code",
   "execution_count": 25,
   "metadata": {},
   "outputs": [
    {
     "name": "stdout",
     "output_type": "stream",
     "text": [
      "Model: \"sequential\"\n",
      "_________________________________________________________________\n",
      "Layer (type)                 Output Shape              Param #   \n",
      "=================================================================\n",
      "keras_layer (KerasLayer)     (None, 20)                400020    \n",
      "_________________________________________________________________\n",
      "dense (Dense)                (None, 16)                336       \n",
      "_________________________________________________________________\n",
      "dense_1 (Dense)              (None, 1)                 17        \n",
      "=================================================================\n",
      "Total params: 400,373\n",
      "Trainable params: 400,373\n",
      "Non-trainable params: 0\n",
      "_________________________________________________________________\n"
     ]
    }
   ],
   "source": [
    "model = tf.keras.Sequential()\n",
    "model.add(hub_layer)\n",
    "model.add(tf.keras.layers.Dense(16, activation='relu'))\n",
    "model.add(tf.keras.layers.Dense(1, activation='sigmoid'))\n",
    "\n",
    "model.summary() "
   ]
  },
  {
   "cell_type": "code",
   "execution_count": 26,
   "metadata": {},
   "outputs": [],
   "source": [
    "model.compile(optimizer='adam',\n",
    "              loss='binary_crossentropy',\n",
    "              metrics=['accuracy'])"
   ]
  },
  {
   "cell_type": "code",
   "execution_count": 27,
   "metadata": {},
   "outputs": [
    {
     "name": "stdout",
     "output_type": "stream",
     "text": [
      "Epoch 1/20\n",
      "15/15 [==============================] - 3s 214ms/step - loss: 0.8829 - accuracy: 0.5004 - val_loss: 0.8101 - val_accuracy: 0.4606\n",
      "Epoch 2/20\n",
      "15/15 [==============================] - 2s 146ms/step - loss: 0.7687 - accuracy: 0.4883 - val_loss: 0.7497 - val_accuracy: 0.5110\n",
      "Epoch 3/20\n",
      "15/15 [==============================] - 2s 157ms/step - loss: 0.7187 - accuracy: 0.5489 - val_loss: 0.7134 - val_accuracy: 0.5518\n",
      "Epoch 4/20\n",
      "15/15 [==============================] - 2s 147ms/step - loss: 0.6797 - accuracy: 0.5896 - val_loss: 0.6809 - val_accuracy: 0.5882\n",
      "Epoch 5/20\n",
      "15/15 [==============================] - 2s 158ms/step - loss: 0.6487 - accuracy: 0.6296 - val_loss: 0.6495 - val_accuracy: 0.6356\n",
      "Epoch 6/20\n",
      "15/15 [==============================] - 3s 168ms/step - loss: 0.6172 - accuracy: 0.6669 - val_loss: 0.6189 - val_accuracy: 0.6658\n",
      "Epoch 7/20\n",
      "15/15 [==============================] - 2s 157ms/step - loss: 0.5880 - accuracy: 0.7015 - val_loss: 0.5930 - val_accuracy: 0.6960\n",
      "Epoch 8/20\n",
      "15/15 [==============================] - 2s 153ms/step - loss: 0.5637 - accuracy: 0.7245 - val_loss: 0.5709 - val_accuracy: 0.7140\n",
      "Epoch 9/20\n",
      "15/15 [==============================] - 2s 150ms/step - loss: 0.5408 - accuracy: 0.7483 - val_loss: 0.5507 - val_accuracy: 0.7314\n",
      "Epoch 10/20\n",
      "15/15 [==============================] - 2s 147ms/step - loss: 0.5197 - accuracy: 0.7627 - val_loss: 0.5316 - val_accuracy: 0.7482\n",
      "Epoch 11/20\n",
      "15/15 [==============================] - 2s 146ms/step - loss: 0.4977 - accuracy: 0.7829 - val_loss: 0.5124 - val_accuracy: 0.7632\n",
      "Epoch 12/20\n",
      "15/15 [==============================] - 2s 149ms/step - loss: 0.4765 - accuracy: 0.7999 - val_loss: 0.4940 - val_accuracy: 0.7738\n",
      "Epoch 13/20\n",
      "15/15 [==============================] - 2s 164ms/step - loss: 0.4532 - accuracy: 0.8171 - val_loss: 0.4757 - val_accuracy: 0.7898\n",
      "Epoch 14/20\n",
      "15/15 [==============================] - 2s 164ms/step - loss: 0.4312 - accuracy: 0.8296 - val_loss: 0.4586 - val_accuracy: 0.7960\n",
      "Epoch 15/20\n",
      "15/15 [==============================] - 2s 162ms/step - loss: 0.4089 - accuracy: 0.8451 - val_loss: 0.4425 - val_accuracy: 0.8076\n",
      "Epoch 16/20\n",
      "15/15 [==============================] - 2s 154ms/step - loss: 0.3873 - accuracy: 0.8568 - val_loss: 0.4275 - val_accuracy: 0.8176\n",
      "Epoch 17/20\n",
      "15/15 [==============================] - 2s 152ms/step - loss: 0.3669 - accuracy: 0.8677 - val_loss: 0.4125 - val_accuracy: 0.8240\n",
      "Epoch 18/20\n",
      "15/15 [==============================] - 2s 151ms/step - loss: 0.3463 - accuracy: 0.8759 - val_loss: 0.3998 - val_accuracy: 0.8304\n",
      "Epoch 19/20\n",
      "15/15 [==============================] - 2s 162ms/step - loss: 0.3265 - accuracy: 0.8832 - val_loss: 0.3874 - val_accuracy: 0.8406\n",
      "Epoch 20/20\n",
      "15/15 [==============================] - 2s 150ms/step - loss: 0.3082 - accuracy: 0.8924 - val_loss: 0.3814 - val_accuracy: 0.8384\n"
     ]
    }
   ],
   "source": [
    "history = model.fit(train_data.shuffle(10000).batch(512),\n",
    "                    epochs=20,\n",
    "                    validation_data=validation_data.batch(512),\n",
    "                    verbose=1)"
   ]
  },
  {
   "cell_type": "code",
   "execution_count": 28,
   "metadata": {},
   "outputs": [
    {
     "name": "stdout",
     "output_type": "stream",
     "text": [
      "loss: 0.378\n",
      "accuracy: 0.841\n"
     ]
    }
   ],
   "source": [
    "results = model.evaluate(raw_test.batch(512), verbose=2)\n",
    "for name, value in zip(model.metrics_names, results):\n",
    "  print(\"%s: %.3f\" % (name, value))"
   ]
  },
  {
   "cell_type": "code",
   "execution_count": 29,
   "metadata": {},
   "outputs": [
    {
     "name": "stdout",
     "output_type": "stream",
     "text": [
      "Epoch 1/20\n",
      "8/8 [==============================] - 3s 339ms/step - loss: 0.2937 - accuracy: 0.8973 - val_loss: 0.3717 - val_accuracy: 0.8458\n",
      "Epoch 2/20\n",
      "8/8 [==============================] - 2s 283ms/step - loss: 0.2838 - accuracy: 0.9027 - val_loss: 0.3676 - val_accuracy: 0.8446\n",
      "Epoch 3/20\n",
      "8/8 [==============================] - 3s 318ms/step - loss: 0.2754 - accuracy: 0.9064 - val_loss: 0.3620 - val_accuracy: 0.8490\n",
      "Epoch 4/20\n",
      "8/8 [==============================] - 3s 361ms/step - loss: 0.2664 - accuracy: 0.9093 - val_loss: 0.3579 - val_accuracy: 0.8484\n",
      "Epoch 5/20\n",
      "8/8 [==============================] - 2s 308ms/step - loss: 0.2572 - accuracy: 0.9115 - val_loss: 0.3541 - val_accuracy: 0.8492\n",
      "Epoch 6/20\n",
      "8/8 [==============================] - 3s 313ms/step - loss: 0.2503 - accuracy: 0.9179 - val_loss: 0.3496 - val_accuracy: 0.8538\n",
      "Epoch 7/20\n",
      "8/8 [==============================] - 2s 297ms/step - loss: 0.2426 - accuracy: 0.9204 - val_loss: 0.3467 - val_accuracy: 0.8512\n",
      "Epoch 8/20\n",
      "8/8 [==============================] - 2s 297ms/step - loss: 0.2330 - accuracy: 0.9251 - val_loss: 0.3427 - val_accuracy: 0.8556\n",
      "Epoch 9/20\n",
      "8/8 [==============================] - 2s 299ms/step - loss: 0.2245 - accuracy: 0.9283 - val_loss: 0.3409 - val_accuracy: 0.8530\n",
      "Epoch 10/20\n",
      "8/8 [==============================] - 2s 289ms/step - loss: 0.2155 - accuracy: 0.9324 - val_loss: 0.3372 - val_accuracy: 0.8566\n",
      "Epoch 11/20\n",
      "8/8 [==============================] - 2s 290ms/step - loss: 0.2088 - accuracy: 0.9376 - val_loss: 0.3361 - val_accuracy: 0.8546\n",
      "Epoch 12/20\n",
      "8/8 [==============================] - 2s 310ms/step - loss: 0.2018 - accuracy: 0.9405 - val_loss: 0.3313 - val_accuracy: 0.8596\n",
      "Epoch 13/20\n",
      "8/8 [==============================] - 2s 290ms/step - loss: 0.1922 - accuracy: 0.9447 - val_loss: 0.3302 - val_accuracy: 0.8592\n",
      "Epoch 14/20\n",
      "8/8 [==============================] - 2s 285ms/step - loss: 0.1831 - accuracy: 0.9484 - val_loss: 0.3259 - val_accuracy: 0.8606\n",
      "Epoch 15/20\n",
      "8/8 [==============================] - 2s 288ms/step - loss: 0.1748 - accuracy: 0.9491 - val_loss: 0.3252 - val_accuracy: 0.8608\n",
      "Epoch 16/20\n",
      "8/8 [==============================] - 2s 283ms/step - loss: 0.1689 - accuracy: 0.9537 - val_loss: 0.3226 - val_accuracy: 0.8626\n",
      "Epoch 17/20\n",
      "8/8 [==============================] - 2s 292ms/step - loss: 0.1595 - accuracy: 0.9556 - val_loss: 0.3211 - val_accuracy: 0.8640\n",
      "Epoch 18/20\n",
      "8/8 [==============================] - 2s 297ms/step - loss: 0.1536 - accuracy: 0.9571 - val_loss: 0.3232 - val_accuracy: 0.8634\n",
      "Epoch 19/20\n",
      "8/8 [==============================] - 2s 290ms/step - loss: 0.1472 - accuracy: 0.9593 - val_loss: 0.3208 - val_accuracy: 0.8642\n",
      "Epoch 20/20\n",
      "8/8 [==============================] - 2s 289ms/step - loss: 0.1420 - accuracy: 0.9612 - val_loss: 0.3193 - val_accuracy: 0.8658\n"
     ]
    }
   ],
   "source": [
    "history = model.fit(train_data.shuffle(10000).batch(1024),\n",
    "                    epochs=20,\n",
    "                    validation_data=validation_data.batch(512),\n",
    "                    verbose=1)"
   ]
  },
  {
   "cell_type": "code",
   "execution_count": 30,
   "metadata": {},
   "outputs": [
    {
     "name": "stdout",
     "output_type": "stream",
     "text": [
      "loss: 0.317\n",
      "accuracy: 0.866\n"
     ]
    }
   ],
   "source": [
    "results = model.evaluate(raw_test.batch(1024), verbose=2)\n",
    "for name, value in zip(model.metrics_names, results):\n",
    "  print(\"%s: %.3f\" % (name, value))"
   ]
  },
  {
   "cell_type": "code",
   "execution_count": 31,
   "metadata": {},
   "outputs": [
    {
     "data": {
      "text/plain": [
       "<tf.Tensor: shape=(3, 128), dtype=float32, numpy=\n",
       "array([[ 1.1329565 , -0.03431067,  0.12162483,  0.23909318, -0.00590096,\n",
       "         0.01708133,  0.08015746, -0.24174148,  0.02650847, -0.04987909,\n",
       "         0.11247347, -0.5601333 , -0.19981343, -0.33171475, -0.21482827,\n",
       "        -0.0408943 , -0.07008895,  0.04761497, -0.4271519 ,  0.5916435 ,\n",
       "         0.20662342, -0.01224876,  0.02093347,  0.08682311,  0.1036322 ,\n",
       "        -0.27562743,  0.08033531, -0.1508889 , -0.21847422,  0.06831451,\n",
       "        -0.14723632, -0.01117621,  0.25246456,  0.10763772,  0.16948967,\n",
       "        -0.0666896 , -0.2209269 , -0.3792632 , -0.15618715,  0.20775793,\n",
       "        -0.24780062,  0.05174338,  0.04574278, -0.03784208,  0.09963844,\n",
       "         0.2984763 ,  0.04106063, -0.1306813 , -0.23743384,  0.07203843,\n",
       "         0.09253472, -0.13241911, -0.29098544,  0.1412372 , -0.20057504,\n",
       "        -0.02892039, -0.14496696, -0.11467611,  0.35817885,  0.137189  ,\n",
       "        -0.0982758 ,  0.04868827,  0.01760143, -0.08307212, -0.0034984 ,\n",
       "        -0.01027516, -0.0081893 , -0.44247296,  0.2515449 ,  0.17821017,\n",
       "        -0.19196567, -0.04467885, -0.17082648, -0.28057122,  0.06178378,\n",
       "         0.10077247, -0.1975656 , -0.21596523, -0.08994614,  0.01176248,\n",
       "        -0.08658692,  0.08007401, -0.12543306,  0.0446598 , -0.07307897,\n",
       "         0.06574065, -0.2238672 ,  0.17806454,  0.9005481 ,  0.55621994,\n",
       "        -0.11694178,  0.09314022, -0.1796698 , -0.18921837,  0.0216456 ,\n",
       "         0.16930452, -0.02732026, -0.26192495,  0.16722474, -0.07650191,\n",
       "        -0.01805014,  0.00977933,  0.35422808,  0.02008115, -0.01643209,\n",
       "        -0.36127663, -0.01664132, -0.02406877, -0.02935027,  0.14058073,\n",
       "        -0.4286448 ,  0.0289977 , -0.16992389, -0.15780234,  0.10164463,\n",
       "        -0.29527357, -0.10797171,  0.04040849, -0.0489212 , -0.11398666,\n",
       "         0.1413943 , -0.16509335, -0.0897059 , -0.10753043, -0.11777861,\n",
       "        -0.1695381 ,  0.19131625,  0.25214472],\n",
       "       [ 1.3993114 ,  0.07091825,  0.17626837,  0.43239227,  0.2668123 ,\n",
       "        -0.13159902, -0.09596487, -0.4550524 , -0.20217389, -0.07174226,\n",
       "        -0.02219776, -0.25716725, -0.29525122, -0.30407235,  0.02016517,\n",
       "         0.09048087, -0.16293113,  0.11812694, -0.17674565,  0.8115082 ,\n",
       "         0.06450329,  0.20442279, -0.10483374,  0.09975157, -0.25057843,\n",
       "        -0.06292376,  0.17285128, -0.01758104, -0.30186537, -0.0841127 ,\n",
       "        -0.11114637,  0.05814372,  0.25236475, -0.19417268,  0.22315884,\n",
       "        -0.13729134, -0.06824694, -0.341236  ,  0.05999772,  0.41810328,\n",
       "        -0.20128277, -0.11010186, -0.16626425, -0.30353653,  0.11330597,\n",
       "         0.31198156,  0.11556248, -0.09846803, -0.30257723, -0.10206842,\n",
       "         0.03853445,  0.29365614, -0.0263411 ,  0.19250494, -0.18318594,\n",
       "        -0.387843  , -0.02986103, -0.07963722,  0.1678581 , -0.05191521,\n",
       "         0.00169835,  0.22374938,  0.2580453 , -0.16934054, -0.1468873 ,\n",
       "         0.03166825,  0.04612743, -0.26917952,  0.07807065, -0.12946828,\n",
       "        -0.40279043,  0.21611816,  0.04066769, -0.1153921 ,  0.13480614,\n",
       "         0.0533815 ,  0.01338466, -0.2828704 ,  0.02679291,  0.0553114 ,\n",
       "         0.2822382 ,  0.05319275, -0.03557036,  0.06398428,  0.01789244,\n",
       "        -0.12110488, -0.3023702 ,  0.15235233,  0.9217616 ,  0.28769338,\n",
       "        -0.37357402,  0.16022815,  0.04541649, -0.24403265,  0.05417794,\n",
       "         0.17239033,  0.12251239, -0.10201354, -0.07567043, -0.0966015 ,\n",
       "         0.05389016,  0.11833748,  0.44211835,  0.08047371,  0.05612666,\n",
       "        -0.17100687, -0.2711482 ,  0.11586259, -0.334083  ,  0.1370273 ,\n",
       "        -0.6890031 ,  0.03334224, -0.2867712 , -0.13632278, -0.04118263,\n",
       "        -0.3916107 , -0.03816559,  0.08995713, -0.2392849 ,  0.15313514,\n",
       "         0.23271668, -0.02023195,  0.19865698,  0.23517253, -0.0146532 ,\n",
       "        -0.14265741, -0.19406287,  0.13939749],\n",
       "       [ 1.2946371 , -0.11253475,  0.05029635,  0.2367229 , -0.13244802,\n",
       "         0.02443308, -0.14652136, -0.28027052, -0.18048939,  0.18805891,\n",
       "         0.13685365, -0.49752113, -0.09074111, -0.4175201 , -0.28877217,\n",
       "         0.05546521, -0.2556944 , -0.18724218, -0.31757542,  1.2265577 ,\n",
       "         0.05485158,  0.16542311,  0.07241534,  0.00525282, -0.06909394,\n",
       "        -0.30875286,  0.07455752, -0.02353438, -0.28600615,  0.07911482,\n",
       "         0.03179615,  0.06833802,  0.12678264,  0.03676327,  0.06749427,\n",
       "        -0.13177454, -0.20647688, -0.40936542,  0.04382695,  0.5071922 ,\n",
       "        -0.07591803, -0.01022388, -0.11367724, -0.03348291,  0.40537632,\n",
       "         0.01219334,  0.21148013, -0.15177499, -0.1675088 ,  0.25807852,\n",
       "        -0.06687336,  0.18238536, -0.07498309,  0.18307114, -0.02346368,\n",
       "        -0.1321392 ,  0.03790202,  0.05352983, -0.04517508, -0.09385905,\n",
       "        -0.10957684,  0.21261135,  0.01746937, -0.23257476,  0.09728883,\n",
       "        -0.06119744,  0.05879438, -0.5455181 ,  0.64510447,  0.20823778,\n",
       "        -0.26956758,  0.14502303,  0.26874134, -0.03323599,  0.23889118,\n",
       "         0.07796904, -0.03574307, -0.3639748 , -0.15900753,  0.04273356,\n",
       "         0.04090342,  0.03733777, -0.22868969, -0.05473918, -0.14085442,\n",
       "        -0.25791603, -0.17344423,  0.18025579,  0.5614433 ,  0.18826233,\n",
       "        -0.10364699,  0.17972913,  0.21095553, -0.1817403 ,  0.2866041 ,\n",
       "         0.18437123,  0.20135565, -0.23521572,  0.22913568,  0.18358126,\n",
       "        -0.09725957,  0.08446427,  0.34726897,  0.20610821, -0.05446661,\n",
       "        -0.32405758, -0.04476469,  0.09620295, -0.23533134,  0.06375794,\n",
       "        -0.32683748,  0.01521569, -0.45230308, -0.05667076, -0.21794087,\n",
       "        -0.13954318, -0.05025814, -0.07399976, -0.03221476, -0.13015044,\n",
       "         0.22862671, -0.3144746 ,  0.21375646, -0.1815645 , -0.01689448,\n",
       "        -0.11951823,  0.00593521,  0.12622672]], dtype=float32)>"
      ]
     },
     "execution_count": 31,
     "metadata": {},
     "output_type": "execute_result"
    }
   ],
   "source": [
    "embedding = \"https://tfhub.dev/google/tf2-preview/nnlm-en-dim128/1\"\n",
    "hub_layer = hub.KerasLayer(embedding, input_shape=[], \n",
    "                           dtype=tf.string, trainable=True)\n",
    "hub_layer(train_examples_batch[:3])"
   ]
  },
  {
   "cell_type": "code",
   "execution_count": 32,
   "metadata": {},
   "outputs": [
    {
     "name": "stdout",
     "output_type": "stream",
     "text": [
      "Model: \"sequential_1\"\n",
      "_________________________________________________________________\n",
      "Layer (type)                 Output Shape              Param #   \n",
      "=================================================================\n",
      "keras_layer_1 (KerasLayer)   (None, 128)               124642688 \n",
      "_________________________________________________________________\n",
      "dense_2 (Dense)              (None, 16)                2064      \n",
      "_________________________________________________________________\n",
      "dense_3 (Dense)              (None, 1)                 17        \n",
      "=================================================================\n",
      "Total params: 124,644,769\n",
      "Trainable params: 124,644,769\n",
      "Non-trainable params: 0\n",
      "_________________________________________________________________\n"
     ]
    }
   ],
   "source": [
    "model = tf.keras.Sequential()\n",
    "model.add(hub_layer)\n",
    "model.add(tf.keras.layers.Dense(16, activation='relu'))\n",
    "model.add(tf.keras.layers.Dense(1, activation='sigmoid'))\n",
    "\n",
    "model.summary()"
   ]
  },
  {
   "cell_type": "code",
   "execution_count": 33,
   "metadata": {},
   "outputs": [],
   "source": [
    "model.compile(optimizer='adam',\n",
    "              loss='binary_crossentropy',\n",
    "              metrics=['accuracy'])"
   ]
  },
  {
   "cell_type": "code",
   "execution_count": 34,
   "metadata": {},
   "outputs": [
    {
     "name": "stdout",
     "output_type": "stream",
     "text": [
      "Epoch 1/20\n",
      "15/15 [==============================] - 29s 2s/step - loss: 0.6654 - accuracy: 0.6272 - val_loss: 0.6214 - val_accuracy: 0.7430\n",
      "Epoch 2/20\n",
      "15/15 [==============================] - 27s 2s/step - loss: 0.5625 - accuracy: 0.8025 - val_loss: 0.5432 - val_accuracy: 0.7830\n",
      "Epoch 3/20\n",
      "15/15 [==============================] - 28s 2s/step - loss: 0.4595 - accuracy: 0.8519 - val_loss: 0.4644 - val_accuracy: 0.8216\n",
      "Epoch 4/20\n",
      "15/15 [==============================] - 27s 2s/step - loss: 0.3507 - accuracy: 0.9005 - val_loss: 0.3969 - val_accuracy: 0.8490\n",
      "Epoch 5/20\n",
      "15/15 [==============================] - 28s 2s/step - loss: 0.2577 - accuracy: 0.9373 - val_loss: 0.3537 - val_accuracy: 0.8616\n",
      "Epoch 6/20\n",
      "15/15 [==============================] - 27s 2s/step - loss: 0.1823 - accuracy: 0.9591 - val_loss: 0.3285 - val_accuracy: 0.8660\n",
      "Epoch 7/20\n",
      "15/15 [==============================] - 27s 2s/step - loss: 0.1191 - accuracy: 0.9753 - val_loss: 0.3241 - val_accuracy: 0.8626\n",
      "Epoch 8/20\n",
      "15/15 [==============================] - 27s 2s/step - loss: 0.0753 - accuracy: 0.9893 - val_loss: 0.3223 - val_accuracy: 0.8656\n",
      "Epoch 9/20\n",
      "15/15 [==============================] - 27s 2s/step - loss: 0.0482 - accuracy: 0.9957 - val_loss: 0.3306 - val_accuracy: 0.8640\n",
      "Epoch 10/20\n",
      "15/15 [==============================] - 27s 2s/step - loss: 0.0318 - accuracy: 0.9983 - val_loss: 0.3398 - val_accuracy: 0.8638\n",
      "Epoch 11/20\n",
      "15/15 [==============================] - 27s 2s/step - loss: 0.0217 - accuracy: 0.9997 - val_loss: 0.3499 - val_accuracy: 0.8626\n",
      "Epoch 12/20\n",
      "15/15 [==============================] - 27s 2s/step - loss: 0.0159 - accuracy: 0.9999 - val_loss: 0.3610 - val_accuracy: 0.8602\n",
      "Epoch 13/20\n",
      "15/15 [==============================] - 27s 2s/step - loss: 0.0121 - accuracy: 0.9999 - val_loss: 0.3676 - val_accuracy: 0.8608\n",
      "Epoch 14/20\n",
      "15/15 [==============================] - 27s 2s/step - loss: 0.0095 - accuracy: 0.9999 - val_loss: 0.3758 - val_accuracy: 0.8608\n",
      "Epoch 15/20\n",
      "15/15 [==============================] - 29s 2s/step - loss: 0.0077 - accuracy: 0.9999 - val_loss: 0.3848 - val_accuracy: 0.8604\n",
      "Epoch 16/20\n",
      "15/15 [==============================] - 32s 2s/step - loss: 0.0063 - accuracy: 0.9999 - val_loss: 0.3929 - val_accuracy: 0.8598\n",
      "Epoch 17/20\n",
      "15/15 [==============================] - 30s 2s/step - loss: 0.0052 - accuracy: 1.0000 - val_loss: 0.3995 - val_accuracy: 0.8586\n",
      "Epoch 18/20\n",
      "15/15 [==============================] - 30s 2s/step - loss: 0.0044 - accuracy: 1.0000 - val_loss: 0.4046 - val_accuracy: 0.8590\n",
      "Epoch 19/20\n",
      "15/15 [==============================] - 30s 2s/step - loss: 0.0038 - accuracy: 1.0000 - val_loss: 0.4134 - val_accuracy: 0.8598\n",
      "Epoch 20/20\n",
      "15/15 [==============================] - 30s 2s/step - loss: 0.0033 - accuracy: 1.0000 - val_loss: 0.4168 - val_accuracy: 0.8578\n"
     ]
    }
   ],
   "source": [
    "history = model.fit(train_data.shuffle(10000).batch(512),\n",
    "                    epochs=20,\n",
    "                    validation_data=validation_data.batch(512),\n",
    "                    verbose=1)"
   ]
  },
  {
   "cell_type": "code",
   "execution_count": 36,
   "metadata": {},
   "outputs": [
    {
     "name": "stdout",
     "output_type": "stream",
     "text": [
      "Epoch 1/6\n",
      "15/15 [==============================] - 30s 2s/step - loss: 0.0029 - accuracy: 1.0000 - val_loss: 0.4222 - val_accuracy: 0.8584\n",
      "Epoch 2/6\n",
      "15/15 [==============================] - 27s 2s/step - loss: 0.0026 - accuracy: 1.0000 - val_loss: 0.4279 - val_accuracy: 0.8582\n",
      "Epoch 3/6\n",
      "15/15 [==============================] - 27s 2s/step - loss: 0.0023 - accuracy: 1.0000 - val_loss: 0.4323 - val_accuracy: 0.8582\n",
      "Epoch 4/6\n",
      "15/15 [==============================] - 27s 2s/step - loss: 0.0021 - accuracy: 1.0000 - val_loss: 0.4380 - val_accuracy: 0.8588\n",
      "Epoch 5/6\n",
      "15/15 [==============================] - 29s 2s/step - loss: 0.0019 - accuracy: 1.0000 - val_loss: 0.4411 - val_accuracy: 0.8588\n",
      "Epoch 6/6\n",
      "15/15 [==============================] - 32s 2s/step - loss: 0.0017 - accuracy: 1.0000 - val_loss: 0.4455 - val_accuracy: 0.8594\n"
     ]
    }
   ],
   "source": [
    "history = model.fit(train_data.shuffle(10000).batch(512),\n",
    "                    epochs=6,\n",
    "                    validation_data=validation_data.batch(512),\n",
    "                    verbose=1)"
   ]
  },
  {
   "cell_type": "code",
   "execution_count": 37,
   "metadata": {},
   "outputs": [
    {
     "name": "stdout",
     "output_type": "stream",
     "text": [
      "loss: 0.449\n",
      "accuracy: 0.854\n"
     ]
    }
   ],
   "source": [
    "results = model.evaluate(raw_test.batch(1024), verbose=2)\n",
    "for name, value in zip(model.metrics_names, results):\n",
    "  print(\"%s: %.3f\" % (name, value))"
   ]
  },
  {
   "cell_type": "code",
   "execution_count": 38,
   "metadata": {},
   "outputs": [
    {
     "name": "stdout",
     "output_type": "stream",
     "text": [
      "Model: \"sequential_2\"\n",
      "_________________________________________________________________\n",
      "Layer (type)                 Output Shape              Param #   \n",
      "=================================================================\n",
      "keras_layer_2 (KerasLayer)   (None, 20)                400020    \n",
      "_________________________________________________________________\n",
      "dense_4 (Dense)              (None, 16)                336       \n",
      "_________________________________________________________________\n",
      "dense_5 (Dense)              (None, 8)                 136       \n",
      "_________________________________________________________________\n",
      "dense_6 (Dense)              (None, 1)                 9         \n",
      "=================================================================\n",
      "Total params: 400,501\n",
      "Trainable params: 400,501\n",
      "Non-trainable params: 0\n",
      "_________________________________________________________________\n"
     ]
    }
   ],
   "source": [
    "embedding = \"https://tfhub.dev/google/tf2-preview/gnews-swivel-20dim/1\"\n",
    "hub_layer = hub.KerasLayer(embedding, input_shape=[], \n",
    "                           dtype=tf.string, trainable=True)\n",
    "hub_layer(train_examples_batch[:3])\n",
    "model = tf.keras.Sequential()\n",
    "\n",
    "model.add(hub_layer)\n",
    "model.add(tf.keras.layers.Dense(16, activation='relu'))\n",
    "model.add(tf.keras.layers.Dense(8, activation='relu'))\n",
    "model.add(tf.keras.layers.Dense(1, activation='sigmoid'))\n",
    "\n",
    "model.summary() \n",
    "\n",
    "model.compile(optimizer='adam',\n",
    "              loss='binary_crossentropy',\n",
    "              metrics=['accuracy'])"
   ]
  },
  {
   "cell_type": "code",
   "execution_count": 43,
   "metadata": {},
   "outputs": [
    {
     "name": "stdout",
     "output_type": "stream",
     "text": [
      "Epoch 1/10\n",
      "8/8 [==============================] - 2s 289ms/step - loss: 0.1938 - accuracy: 0.9340 - val_loss: 0.3582 - val_accuracy: 0.8496\n",
      "Epoch 2/10\n",
      "8/8 [==============================] - 2s 270ms/step - loss: 0.1875 - accuracy: 0.9359 - val_loss: 0.3556 - val_accuracy: 0.8536\n",
      "Epoch 3/10\n",
      "8/8 [==============================] - 2s 285ms/step - loss: 0.1733 - accuracy: 0.9437 - val_loss: 0.3590 - val_accuracy: 0.8516\n",
      "Epoch 4/10\n",
      "8/8 [==============================] - 2s 284ms/step - loss: 0.1641 - accuracy: 0.9467 - val_loss: 0.3549 - val_accuracy: 0.8516\n",
      "Epoch 5/10\n",
      "8/8 [==============================] - 2s 286ms/step - loss: 0.1521 - accuracy: 0.9516 - val_loss: 0.3535 - val_accuracy: 0.8534\n",
      "Epoch 6/10\n",
      "8/8 [==============================] - 2s 273ms/step - loss: 0.1425 - accuracy: 0.9567 - val_loss: 0.3524 - val_accuracy: 0.8546\n",
      "Epoch 7/10\n",
      "8/8 [==============================] - 2s 279ms/step - loss: 0.1332 - accuracy: 0.9624 - val_loss: 0.3533 - val_accuracy: 0.8560\n",
      "Epoch 8/10\n",
      "8/8 [==============================] - 2s 276ms/step - loss: 0.1253 - accuracy: 0.9668 - val_loss: 0.3559 - val_accuracy: 0.8544\n",
      "Epoch 9/10\n",
      "8/8 [==============================] - 2s 280ms/step - loss: 0.1189 - accuracy: 0.9691 - val_loss: 0.3571 - val_accuracy: 0.8546\n",
      "Epoch 10/10\n",
      "8/8 [==============================] - 2s 282ms/step - loss: 0.1079 - accuracy: 0.9735 - val_loss: 0.3589 - val_accuracy: 0.8552\n"
     ]
    }
   ],
   "source": [
    "history = model.fit(train_data.shuffle(10000).batch(1024),\n",
    "                    epochs=10,\n",
    "                    validation_data=validation_data.batch(1024),\n",
    "                    verbose=1)"
   ]
  },
  {
   "cell_type": "code",
   "execution_count": 44,
   "metadata": {},
   "outputs": [
    {
     "name": "stdout",
     "output_type": "stream",
     "text": [
      "loss: 0.350\n",
      "accuracy: 0.858\n"
     ]
    }
   ],
   "source": [
    "results = model.evaluate(raw_test.batch(1024), verbose=2)\n",
    "for name, value in zip(model.metrics_names, results):\n",
    "  print(\"%s: %.3f\" % (name, value))"
   ]
  },
  {
   "cell_type": "code",
   "execution_count": 45,
   "metadata": {},
   "outputs": [],
   "source": [
    "# Разобьем обучающую выборку в другой пропорции\n",
    "(train_data, validation_data, raw_test), test_data = tfds.load(\n",
    "    name=\"imdb_reviews\", \n",
    "    split=('train[:50%]','train[50%:80%]', 'train[80%:]'),\n",
    "    with_info=True,\n",
    "    as_supervised=True)"
   ]
  },
  {
   "cell_type": "code",
   "execution_count": 46,
   "metadata": {},
   "outputs": [
    {
     "name": "stdout",
     "output_type": "stream",
     "text": [
      "Model: \"sequential_3\"\n",
      "_________________________________________________________________\n",
      "Layer (type)                 Output Shape              Param #   \n",
      "=================================================================\n",
      "keras_layer_3 (KerasLayer)   (None, 20)                400020    \n",
      "_________________________________________________________________\n",
      "dense_7 (Dense)              (None, 16)                336       \n",
      "_________________________________________________________________\n",
      "dense_8 (Dense)              (None, 1)                 17        \n",
      "=================================================================\n",
      "Total params: 400,373\n",
      "Trainable params: 400,373\n",
      "Non-trainable params: 0\n",
      "_________________________________________________________________\n"
     ]
    }
   ],
   "source": [
    "embedding = \"https://tfhub.dev/google/tf2-preview/gnews-swivel-20dim/1\"\n",
    "hub_layer = hub.KerasLayer(embedding, input_shape=[], \n",
    "                           dtype=tf.string, trainable=True)\n",
    "hub_layer(train_examples_batch[:3])\n",
    "model = tf.keras.Sequential()\n",
    "\n",
    "model.add(hub_layer)\n",
    "model.add(tf.keras.layers.Dense(16, activation='relu'))\n",
    "model.add(tf.keras.layers.Dense(1, activation='sigmoid'))\n",
    "\n",
    "model.summary() \n",
    "\n",
    "model.compile(optimizer='adam',\n",
    "              loss='binary_crossentropy',\n",
    "              metrics=['accuracy'])"
   ]
  },
  {
   "cell_type": "code",
   "execution_count": 47,
   "metadata": {},
   "outputs": [
    {
     "name": "stdout",
     "output_type": "stream",
     "text": [
      "Epoch 1/20\n",
      "13/13 [==============================] - 4s 331ms/step - loss: 0.8210 - accuracy: 0.5162 - val_loss: 0.6691 - val_accuracy: 0.5933\n",
      "Epoch 2/20\n",
      "13/13 [==============================] - 4s 271ms/step - loss: 0.6578 - accuracy: 0.6113 - val_loss: 0.6582 - val_accuracy: 0.6308\n",
      "Epoch 3/20\n",
      "13/13 [==============================] - 3s 262ms/step - loss: 0.6446 - accuracy: 0.6340 - val_loss: 0.6293 - val_accuracy: 0.6507\n",
      "Epoch 4/20\n",
      "13/13 [==============================] - 3s 268ms/step - loss: 0.6204 - accuracy: 0.6552 - val_loss: 0.6116 - val_accuracy: 0.6621\n",
      "Epoch 5/20\n",
      "13/13 [==============================] - 4s 283ms/step - loss: 0.6024 - accuracy: 0.6708 - val_loss: 0.5927 - val_accuracy: 0.6828\n",
      "Epoch 6/20\n",
      "13/13 [==============================] - 4s 279ms/step - loss: 0.5796 - accuracy: 0.6906 - val_loss: 0.5687 - val_accuracy: 0.7040\n",
      "Epoch 7/20\n",
      "13/13 [==============================] - 3s 267ms/step - loss: 0.5546 - accuracy: 0.7180 - val_loss: 0.5470 - val_accuracy: 0.7296\n",
      "Epoch 8/20\n",
      "13/13 [==============================] - 3s 267ms/step - loss: 0.5312 - accuracy: 0.7415 - val_loss: 0.5291 - val_accuracy: 0.7448\n",
      "Epoch 9/20\n",
      "13/13 [==============================] - 3s 261ms/step - loss: 0.5091 - accuracy: 0.7551 - val_loss: 0.5131 - val_accuracy: 0.7571\n",
      "Epoch 10/20\n",
      "13/13 [==============================] - 3s 252ms/step - loss: 0.4918 - accuracy: 0.7694 - val_loss: 0.4993 - val_accuracy: 0.7641\n",
      "Epoch 11/20\n",
      "13/13 [==============================] - 3s 261ms/step - loss: 0.4739 - accuracy: 0.7847 - val_loss: 0.4844 - val_accuracy: 0.7769\n",
      "Epoch 12/20\n",
      "13/13 [==============================] - 3s 259ms/step - loss: 0.4542 - accuracy: 0.7966 - val_loss: 0.4700 - val_accuracy: 0.7867\n",
      "Epoch 13/20\n",
      "13/13 [==============================] - 3s 269ms/step - loss: 0.4347 - accuracy: 0.8076 - val_loss: 0.4560 - val_accuracy: 0.7939\n",
      "Epoch 14/20\n",
      "13/13 [==============================] - 4s 282ms/step - loss: 0.4181 - accuracy: 0.8189 - val_loss: 0.4434 - val_accuracy: 0.7995\n",
      "Epoch 15/20\n",
      "13/13 [==============================] - 3s 263ms/step - loss: 0.4036 - accuracy: 0.8288 - val_loss: 0.4322 - val_accuracy: 0.8073\n",
      "Epoch 16/20\n",
      "13/13 [==============================] - 3s 266ms/step - loss: 0.3876 - accuracy: 0.8362 - val_loss: 0.4202 - val_accuracy: 0.8128\n",
      "Epoch 17/20\n",
      "13/13 [==============================] - 3s 262ms/step - loss: 0.3679 - accuracy: 0.8458 - val_loss: 0.4086 - val_accuracy: 0.8211\n",
      "Epoch 18/20\n",
      "13/13 [==============================] - 3s 248ms/step - loss: 0.3544 - accuracy: 0.8541 - val_loss: 0.3987 - val_accuracy: 0.8257\n",
      "Epoch 19/20\n",
      "13/13 [==============================] - 4s 282ms/step - loss: 0.3391 - accuracy: 0.8618 - val_loss: 0.3894 - val_accuracy: 0.8289\n",
      "Epoch 20/20\n",
      "13/13 [==============================] - 3s 261ms/step - loss: 0.3270 - accuracy: 0.8707 - val_loss: 0.3819 - val_accuracy: 0.8349\n"
     ]
    }
   ],
   "source": [
    "history = model.fit(train_data.shuffle(10000).batch(1024),\n",
    "                    epochs=20,\n",
    "                    validation_data=validation_data.batch(1024),\n",
    "                    verbose=1)"
   ]
  },
  {
   "cell_type": "code",
   "execution_count": 49,
   "metadata": {},
   "outputs": [
    {
     "name": "stdout",
     "output_type": "stream",
     "text": [
      "loss: 0.317\n",
      "accuracy: 0.867\n"
     ]
    }
   ],
   "source": [
    "results = model.evaluate(raw_test.batch(1024), verbose=2)\n",
    "for name, value in zip(model.metrics_names, results):\n",
    "  print(\"%s: %.3f\" % (name, value))"
   ]
  },
  {
   "cell_type": "code",
   "execution_count": null,
   "metadata": {},
   "outputs": [],
   "source": []
  }
 ],
 "metadata": {
  "kernelspec": {
   "display_name": "Python 3",
   "language": "python",
   "name": "python3"
  },
  "language_info": {
   "codemirror_mode": {
    "name": "ipython",
    "version": 3
   },
   "file_extension": ".py",
   "mimetype": "text/x-python",
   "name": "python",
   "nbconvert_exporter": "python",
   "pygments_lexer": "ipython3",
   "version": "3.7.3"
  }
 },
 "nbformat": 4,
 "nbformat_minor": 4
}
