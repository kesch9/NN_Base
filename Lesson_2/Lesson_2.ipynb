{
 "cells": [
  {
   "cell_type": "markdown",
   "metadata": {},
   "source": [
    "## Практическое задание\n",
    "\n",
    "<ol>\n",
    "    <li>Попробуйте обучить нейронную сеть на Keras с другими параметрами. \n",
    "        Опишите в комментарии к уроку - какой результата вы добились от нейросети? Что помогло вам улучшить ее точность?</li>\n",
    "    <li>Поработайте с документацией Keras.</li>\n",
    "</ol>"
   ]
  },
  {
   "cell_type": "markdown",
   "metadata": {},
   "source": [
    "### Исходный Код"
   ]
  },
  {
   "cell_type": "code",
   "execution_count": 1,
   "metadata": {},
   "outputs": [
    {
     "name": "stderr",
     "output_type": "stream",
     "text": [
      "Using TensorFlow backend.\n"
     ]
    },
    {
     "name": "stdout",
     "output_type": "stream",
     "text": [
      "Epoch 1/5\n",
      "60000/60000 [==============================] - 5s 79us/step - loss: 0.3617 - accuracy: 0.8914\n",
      "Epoch 2/5\n",
      "60000/60000 [==============================] - 4s 71us/step - loss: 0.1857 - accuracy: 0.9434\n",
      "Epoch 3/5\n",
      "60000/60000 [==============================] - 5s 90us/step - loss: 0.1459 - accuracy: 0.9554\n",
      "Epoch 4/5\n",
      "60000/60000 [==============================] - 5s 89us/step - loss: 0.1253 - accuracy: 0.9613\n",
      "Epoch 5/5\n",
      "60000/60000 [==============================] - 6s 92us/step - loss: 0.1091 - accuracy: 0.9659\n",
      "10000/10000 [==============================] - 1s 52us/step\n",
      "[7 2 1 0 4]\n",
      "[7 2 1 0 4]\n"
     ]
    }
   ],
   "source": [
    "# The full neural network code!\n",
    "###############################\n",
    "import numpy as np\n",
    "import mnist\n",
    "from keras.models import Sequential\n",
    "from keras.layers import Dense\n",
    "from keras.utils import to_categorical\n",
    "\n",
    "train_images = mnist.train_images()\n",
    "train_labels = mnist.train_labels()\n",
    "test_images = mnist.test_images()\n",
    "test_labels = mnist.test_labels()\n",
    "\n",
    "# Normalize the images.\n",
    "train_images = (train_images / 255) - 0.5\n",
    "test_images = (test_images / 255) - 0.5\n",
    "\n",
    "# Flatten the images.\n",
    "train_images = train_images.reshape((-1, 784))\n",
    "test_images = test_images.reshape((-1, 784))\n",
    "\n",
    "# Build the model.\n",
    "model = Sequential([\n",
    "  Dense(64, activation='relu', input_shape=(784,)),\n",
    "  Dense(64, activation='relu'),\n",
    "  Dense(10, activation='softmax'),\n",
    "])\n",
    "\n",
    "# Compile the model.\n",
    "model.compile(\n",
    "  optimizer='adam',\n",
    "  loss='categorical_crossentropy',\n",
    "  metrics=['accuracy'],\n",
    ")\n",
    "\n",
    "# Train the model.\n",
    "model.fit(\n",
    "  train_images,\n",
    "  to_categorical(train_labels),\n",
    "  epochs=5,\n",
    "  batch_size=32,\n",
    ")\n",
    "\n",
    "# Evaluate the model.\n",
    "model.evaluate(\n",
    "  test_images,\n",
    "  to_categorical(test_labels)\n",
    ")\n",
    "\n",
    "# Save the model to disk.\n",
    "model.save_weights('model.h5')\n",
    "\n",
    "# Load the model from disk later using:\n",
    "# model.load_weights('model.h5')\n",
    "\n",
    "# Predict on the first 5 test images.\n",
    "predictions = model.predict(test_images[:5])\n",
    "\n",
    "# Print our model's predictions.\n",
    "print(np.argmax(predictions, axis=1)) # [7, 2, 1, 0, 4]\n",
    "\n",
    "# Check our predictions against the ground truths.\n",
    "print(test_labels[:5]) # [7, 2, 1, 0, 4]"
   ]
  },
  {
   "cell_type": "markdown",
   "metadata": {},
   "source": [
    "- Увеличим количество batch"
   ]
  },
  {
   "cell_type": "code",
   "execution_count": 4,
   "metadata": {},
   "outputs": [
    {
     "name": "stdout",
     "output_type": "stream",
     "text": [
      "Epoch 1/5\n",
      "60000/60000 [==============================] - 1s 19us/step - loss: 0.0396 - accuracy: 0.9881\n",
      "Epoch 2/5\n",
      "60000/60000 [==============================] - 1s 18us/step - loss: 0.0342 - accuracy: 0.9897\n",
      "Epoch 3/5\n",
      "60000/60000 [==============================] - 1s 20us/step - loss: 0.0325 - accuracy: 0.9904\n",
      "Epoch 4/5\n",
      "60000/60000 [==============================] - 1s 18us/step - loss: 0.0312 - accuracy: 0.9906\n",
      "Epoch 5/5\n",
      "60000/60000 [==============================] - 1s 18us/step - loss: 0.0300 - accuracy: 0.9913\n",
      "10000/10000 [==============================] - 0s 35us/step\n",
      "[7 2 1 0 4]\n"
     ]
    }
   ],
   "source": [
    "model.fit(\n",
    "  train_images,\n",
    "  to_categorical(train_labels),\n",
    "  epochs=5,\n",
    "  batch_size=320,\n",
    ")\n",
    "model.evaluate(\n",
    "  test_images,\n",
    "  to_categorical(test_labels)\n",
    ")\n",
    "predictions = model.predict(test_images[:5])\n",
    "print(np.argmax(predictions, axis=1)) # [7, 2, 1, 0, 4]"
   ]
  },
  {
   "cell_type": "markdown",
   "metadata": {},
   "source": [
    "- До количества входных параметров"
   ]
  },
  {
   "cell_type": "code",
   "execution_count": 7,
   "metadata": {},
   "outputs": [
    {
     "name": "stdout",
     "output_type": "stream",
     "text": [
      "Epoch 1/5\n",
      "60000/60000 [==============================] - 1s 17us/step - loss: 0.0219 - accuracy: 0.9931\n",
      "Epoch 2/5\n",
      "60000/60000 [==============================] - 1s 15us/step - loss: 0.0142 - accuracy: 0.9961\n",
      "Epoch 3/5\n",
      "60000/60000 [==============================] - 1s 15us/step - loss: 0.0131 - accuracy: 0.9967\n",
      "Epoch 4/5\n",
      "60000/60000 [==============================] - 1s 15us/step - loss: 0.0122 - accuracy: 0.9969\n",
      "Epoch 5/5\n",
      "60000/60000 [==============================] - 1s 15us/step - loss: 0.0117 - accuracy: 0.9973\n",
      "10000/10000 [==============================] - 0s 34us/step\n",
      "[7 2 1 0 4]\n"
     ]
    }
   ],
   "source": [
    "model.fit(\n",
    "  train_images,\n",
    "  to_categorical(train_labels),\n",
    "  epochs=5,\n",
    "  batch_size=784,\n",
    ")\n",
    "model.evaluate(\n",
    "  test_images,\n",
    "  to_categorical(test_labels)\n",
    ")\n",
    "predictions = model.predict(test_images[:5])\n",
    "print(np.argmax(predictions, axis=1)) # [7, 2, 1, 0, 4]"
   ]
  },
  {
   "cell_type": "markdown",
   "metadata": {},
   "source": [
    "- Увеличим количество epochs"
   ]
  },
  {
   "cell_type": "code",
   "execution_count": 5,
   "metadata": {},
   "outputs": [
    {
     "name": "stdout",
     "output_type": "stream",
     "text": [
      "Epoch 1/10\n",
      "60000/60000 [==============================] - 4s 75us/step - loss: 0.0712 - accuracy: 0.9767\n",
      "Epoch 2/10\n",
      "60000/60000 [==============================] - 5s 78us/step - loss: 0.0597 - accuracy: 0.9807\n",
      "Epoch 3/10\n",
      "60000/60000 [==============================] - 4s 73us/step - loss: 0.0563 - accuracy: 0.9815\n",
      "Epoch 4/10\n",
      "60000/60000 [==============================] - 5s 75us/step - loss: 0.0527 - accuracy: 0.9823\n",
      "Epoch 5/10\n",
      "60000/60000 [==============================] - 5s 77us/step - loss: 0.0498 - accuracy: 0.9831\n",
      "Epoch 6/10\n",
      "60000/60000 [==============================] - 5s 75us/step - loss: 0.0491 - accuracy: 0.9841\n",
      "Epoch 7/10\n",
      "60000/60000 [==============================] - 5s 76us/step - loss: 0.0442 - accuracy: 0.9852\n",
      "Epoch 8/10\n",
      "60000/60000 [==============================] - 5s 75us/step - loss: 0.0455 - accuracy: 0.9844\n",
      "Epoch 9/10\n",
      "60000/60000 [==============================] - 4s 74us/step - loss: 0.0420 - accuracy: 0.9858\n",
      "Epoch 10/10\n",
      "60000/60000 [==============================] - 4s 74us/step - loss: 0.0407 - accuracy: 0.9863\n",
      "10000/10000 [==============================] - 0s 42us/step\n",
      "[7 2 1 0 4]\n"
     ]
    }
   ],
   "source": [
    "model.fit(\n",
    "  train_images,\n",
    "  to_categorical(train_labels),\n",
    "  epochs=10,\n",
    "  batch_size=32,\n",
    ")\n",
    "model.evaluate(\n",
    "  test_images,\n",
    "  to_categorical(test_labels)\n",
    ")\n",
    "predictions = model.predict(test_images[:5])\n",
    "print(np.argmax(predictions, axis=1)) # [7, 2, 1, 0, 4]"
   ]
  },
  {
   "cell_type": "markdown",
   "metadata": {},
   "source": [
    "- Увелчим количество unit"
   ]
  },
  {
   "cell_type": "code",
   "execution_count": 8,
   "metadata": {},
   "outputs": [
    {
     "name": "stdout",
     "output_type": "stream",
     "text": [
      "Epoch 1/5\n",
      "60000/60000 [==============================] - 5s 85us/step - loss: 0.3148 - accuracy: 0.9037\n",
      "Epoch 2/5\n",
      "60000/60000 [==============================] - 5s 82us/step - loss: 0.1551 - accuracy: 0.9530\n",
      "Epoch 3/5\n",
      "60000/60000 [==============================] - 5s 84us/step - loss: 0.1164 - accuracy: 0.9638\n",
      "Epoch 4/5\n",
      "60000/60000 [==============================] - 5s 83us/step - loss: 0.0979 - accuracy: 0.9692\n",
      "Epoch 5/5\n",
      "60000/60000 [==============================] - 5s 85us/step - loss: 0.0834 - accuracy: 0.9726\n",
      "10000/10000 [==============================] - 0s 34us/step\n",
      "[7 2 1 0 4]\n"
     ]
    }
   ],
   "source": [
    "\n",
    "model = Sequential([\n",
    "  Dense(128, activation='relu', input_shape=(784,)),\n",
    "  Dense(128, activation='relu'),\n",
    "  Dense(10, activation='softmax'),\n",
    "])\n",
    "\n",
    "model.compile(\n",
    "  optimizer='adam',\n",
    "  loss='categorical_crossentropy',\n",
    "  metrics=['accuracy'],\n",
    ")\n",
    "\n",
    "model.fit(\n",
    "  train_images,\n",
    "  to_categorical(train_labels),\n",
    "  epochs=5,\n",
    "  batch_size=32,\n",
    ")\n",
    "\n",
    "model.evaluate(\n",
    "  test_images,\n",
    "  to_categorical(test_labels)\n",
    ")\n",
    "predictions = model.predict(test_images[:5])\n",
    "print(np.argmax(predictions, axis=1)) # [7, 2, 1, 0, 4]\n"
   ]
  },
  {
   "cell_type": "markdown",
   "metadata": {},
   "source": [
    "- поменяем метод активации"
   ]
  },
  {
   "cell_type": "code",
   "execution_count": 10,
   "metadata": {},
   "outputs": [
    {
     "name": "stdout",
     "output_type": "stream",
     "text": [
      "Epoch 1/5\n",
      "60000/60000 [==============================] - 4s 67us/step - loss: 0.8013 - accuracy: 0.7939\n",
      "Epoch 2/5\n",
      "60000/60000 [==============================] - 4s 65us/step - loss: 0.2945 - accuracy: 0.9164\n",
      "Epoch 3/5\n",
      "60000/60000 [==============================] - 4s 66us/step - loss: 0.2275 - accuracy: 0.9330\n",
      "Epoch 4/5\n",
      "60000/60000 [==============================] - 4s 64us/step - loss: 0.1937 - accuracy: 0.9420\n",
      "Epoch 5/5\n",
      "60000/60000 [==============================] - 4s 63us/step - loss: 0.1741 - accuracy: 0.9485\n",
      "10000/10000 [==============================] - 0s 31us/step\n",
      "[7 2 1 0 4]\n"
     ]
    }
   ],
   "source": [
    "model = Sequential([\n",
    "  Dense(32, activation='hard_sigmoid', input_shape=(784,)),\n",
    "  Dense(32, activation='hard_sigmoid'),\n",
    "  Dense(10, activation='softmax'),\n",
    "])\n",
    "\n",
    "model.compile(\n",
    "  optimizer='adam',\n",
    "  loss='categorical_crossentropy',\n",
    "  metrics=['accuracy'],\n",
    ")\n",
    "\n",
    "model.fit(\n",
    "  train_images,\n",
    "  to_categorical(train_labels),\n",
    "  epochs=5,\n",
    "  batch_size=32,\n",
    ")\n",
    "\n",
    "model.evaluate(\n",
    "  test_images,\n",
    "  to_categorical(test_labels)\n",
    ")\n",
    "predictions = model.predict(test_images[:5])\n",
    "print(np.argmax(predictions, axis=1)) # [7, 2, 1, 0, 4]"
   ]
  },
  {
   "cell_type": "markdown",
   "metadata": {},
   "source": [
    "- увеличим количество слоев"
   ]
  },
  {
   "cell_type": "code",
   "execution_count": 11,
   "metadata": {},
   "outputs": [
    {
     "name": "stdout",
     "output_type": "stream",
     "text": [
      "Epoch 1/5\n",
      "60000/60000 [==============================] - 4s 69us/step - loss: 0.4010 - accuracy: 0.8772\n",
      "Epoch 2/5\n",
      "60000/60000 [==============================] - 4s 67us/step - loss: 0.2237 - accuracy: 0.9319\n",
      "Epoch 3/5\n",
      "60000/60000 [==============================] - 4s 68us/step - loss: 0.1831 - accuracy: 0.9439\n",
      "Epoch 4/5\n",
      "60000/60000 [==============================] - 4s 66us/step - loss: 0.1607 - accuracy: 0.9507\n",
      "Epoch 5/5\n",
      "60000/60000 [==============================] - 4s 66us/step - loss: 0.1460 - accuracy: 0.9534\n",
      "10000/10000 [==============================] - 0s 32us/step\n",
      "[7 2 1 0 4]\n"
     ]
    }
   ],
   "source": [
    "model = Sequential([\n",
    "  Dense(32, activation='relu', input_shape=(784,)),\n",
    "  Dense(32, activation='relu'),\n",
    "  Dense(32, activation='relu'),\n",
    "  Dense(10, activation='softmax'),\n",
    "])\n",
    "\n",
    "model.compile(\n",
    "  optimizer='adam',\n",
    "  loss='categorical_crossentropy',\n",
    "  metrics=['accuracy'],\n",
    ")\n",
    "\n",
    "model.fit(\n",
    "  train_images,\n",
    "  to_categorical(train_labels),\n",
    "  epochs=5,\n",
    "  batch_size=32,\n",
    ")\n",
    "\n",
    "model.evaluate(\n",
    "  test_images,\n",
    "  to_categorical(test_labels)\n",
    ")\n",
    "predictions = model.predict(test_images[:5])\n",
    "print(np.argmax(predictions, axis=1)) # [7, 2, 1, 0, 4]"
   ]
  },
  {
   "cell_type": "markdown",
   "metadata": {},
   "source": [
    "### C keros ознакомился, структура понятна, надо подробнее смотреть все аспекты"
   ]
  },
  {
   "cell_type": "markdown",
   "metadata": {},
   "source": [
    "- Интересная функция нормализация"
   ]
  },
  {
   "cell_type": "code",
   "execution_count": 15,
   "metadata": {},
   "outputs": [
    {
     "data": {
      "text/plain": [
       "array([[0.        , 0.        , 0.        , 0.        , 0.        ,\n",
       "        0.        , 0.        , 0.        , 0.        , 0.        ,\n",
       "        0.        , 0.        , 0.        , 0.        , 0.        ,\n",
       "        0.        , 0.        , 0.        , 0.        , 0.        ,\n",
       "        0.        , 0.        , 0.        , 0.        , 0.        ,\n",
       "        0.        , 0.        , 0.        ],\n",
       "       [0.        , 0.        , 0.        , 0.        , 0.        ,\n",
       "        0.        , 0.        , 0.        , 0.        , 0.        ,\n",
       "        0.        , 0.        , 0.        , 0.        , 0.        ,\n",
       "        0.        , 0.        , 0.        , 0.        , 0.        ,\n",
       "        0.        , 0.        , 0.        , 0.        , 0.        ,\n",
       "        0.        , 0.        , 0.        ],\n",
       "       [0.        , 0.        , 0.        , 0.        , 0.        ,\n",
       "        0.        , 0.        , 0.        , 0.        , 0.        ,\n",
       "        0.        , 0.        , 0.        , 0.        , 0.        ,\n",
       "        0.        , 0.        , 0.        , 0.        , 0.        ,\n",
       "        0.        , 0.        , 0.        , 0.        , 0.        ,\n",
       "        0.        , 0.        , 0.        ],\n",
       "       [0.        , 0.        , 0.        , 0.        , 0.        ,\n",
       "        0.        , 0.        , 0.        , 0.        , 0.        ,\n",
       "        0.        , 0.        , 0.        , 0.        , 0.        ,\n",
       "        0.        , 0.        , 0.        , 0.        , 0.        ,\n",
       "        0.        , 0.        , 0.        , 0.        , 0.        ,\n",
       "        0.        , 0.        , 0.        ],\n",
       "       [0.        , 0.        , 0.        , 0.        , 0.        ,\n",
       "        0.        , 0.        , 0.        , 0.        , 0.        ,\n",
       "        0.        , 0.        , 0.        , 0.        , 0.        ,\n",
       "        0.        , 0.        , 0.        , 0.        , 0.        ,\n",
       "        0.        , 0.        , 0.        , 0.        , 0.        ,\n",
       "        0.        , 0.        , 0.        ],\n",
       "       [0.        , 0.        , 0.        , 0.        , 0.        ,\n",
       "        0.        , 0.        , 0.        , 0.        , 0.        ,\n",
       "        0.        , 0.        , 0.00617053, 0.03702317, 0.03702317,\n",
       "        0.03702317, 0.25916217, 0.2797306 , 0.35994746, 0.05347791,\n",
       "        0.34143588, 0.52449487, 0.50804013, 0.26121901, 0.        ,\n",
       "        0.        , 0.        , 0.        ],\n",
       "       [0.        , 0.        , 0.        , 0.        , 0.        ,\n",
       "        0.        , 0.        , 0.        , 0.03783863, 0.04540636,\n",
       "        0.11856105, 0.19423832, 0.21441893, 0.31910581, 0.31910581,\n",
       "        0.31910581, 0.31910581, 0.31910581, 0.28378975, 0.2169415 ,\n",
       "        0.31910581, 0.30523165, 0.24595112, 0.08072242, 0.        ,\n",
       "        0.        , 0.        , 0.        ],\n",
       "       [0.        , 0.        , 0.        , 0.        , 0.        ,\n",
       "        0.        , 0.        , 0.06027503, 0.29276441, 0.31121595,\n",
       "        0.31121595, 0.31121595, 0.31121595, 0.31121595, 0.31121595,\n",
       "        0.31121595, 0.31121595, 0.30875574, 0.11439954, 0.10086841,\n",
       "        0.10086841, 0.06888574, 0.047974  , 0.        , 0.        ,\n",
       "        0.        , 0.        , 0.        ],\n",
       "       [0.        , 0.        , 0.        , 0.        , 0.        ,\n",
       "        0.        , 0.        , 0.02405893, 0.29271693, 0.33816157,\n",
       "        0.33816157, 0.33816157, 0.33816157, 0.33816157, 0.26464818,\n",
       "        0.24326247, 0.33014192, 0.32212228, 0.        , 0.        ,\n",
       "        0.        , 0.        , 0.        , 0.        , 0.        ,\n",
       "        0.        , 0.        , 0.        ],\n",
       "       [0.        , 0.        , 0.        , 0.        , 0.        ,\n",
       "        0.        , 0.        , 0.        , 0.16401365, 0.31982661,\n",
       "        0.21936825, 0.51869316, 0.51869316, 0.42028497, 0.02255188,\n",
       "        0.        , 0.08815734, 0.31572627, 0.        , 0.        ,\n",
       "        0.        , 0.        , 0.        , 0.        , 0.        ,\n",
       "        0.        , 0.        , 0.        ],\n",
       "       [0.        , 0.        , 0.        , 0.        , 0.        ,\n",
       "        0.        , 0.        , 0.        , 0.        , 0.04517963,\n",
       "        0.00322712, 0.49697592, 0.81646044, 0.29044047, 0.        ,\n",
       "        0.        , 0.        , 0.        , 0.        , 0.        ,\n",
       "        0.        , 0.        , 0.        , 0.        , 0.        ,\n",
       "        0.        , 0.        , 0.        ],\n",
       "       [0.        , 0.        , 0.        , 0.        , 0.        ,\n",
       "        0.        , 0.        , 0.        , 0.        , 0.        ,\n",
       "        0.        , 0.4022081 , 0.73207661, 0.54978085, 0.00578717,\n",
       "        0.        , 0.        , 0.        , 0.        , 0.        ,\n",
       "        0.        , 0.        , 0.        , 0.        , 0.        ,\n",
       "        0.        , 0.        , 0.        ],\n",
       "       [0.        , 0.        , 0.        , 0.        , 0.        ,\n",
       "        0.        , 0.        , 0.        , 0.        , 0.        ,\n",
       "        0.        , 0.03392574, 0.58599009, 0.78029206, 0.21589108,\n",
       "        0.        , 0.        , 0.        , 0.        , 0.        ,\n",
       "        0.        , 0.        , 0.        , 0.        , 0.        ,\n",
       "        0.        , 0.        , 0.        ],\n",
       "       [0.        , 0.        , 0.        , 0.        , 0.        ,\n",
       "        0.        , 0.        , 0.        , 0.        , 0.        ,\n",
       "        0.        , 0.        , 0.0912263 , 0.62815821, 0.58645476,\n",
       "        0.41703449, 0.28149828, 0.00260647, 0.        , 0.        ,\n",
       "        0.        , 0.        , 0.        , 0.        , 0.        ,\n",
       "        0.        , 0.        , 0.        ],\n",
       "       [0.        , 0.        , 0.        , 0.        , 0.        ,\n",
       "        0.        , 0.        , 0.        , 0.        , 0.        ,\n",
       "        0.        , 0.        , 0.        , 0.17804778, 0.52754898,\n",
       "        0.55612455, 0.55612455, 0.26157637, 0.05495302, 0.        ,\n",
       "        0.        , 0.        , 0.        , 0.        , 0.        ,\n",
       "        0.        , 0.        , 0.        ],\n",
       "       [0.        , 0.        , 0.        , 0.        , 0.        ,\n",
       "        0.        , 0.        , 0.        , 0.        , 0.        ,\n",
       "        0.        , 0.        , 0.        , 0.        , 0.10382122,\n",
       "        0.42912769, 0.58370594, 0.58370594, 0.34607072, 0.06229273,\n",
       "        0.        , 0.        , 0.        , 0.        , 0.        ,\n",
       "        0.        , 0.        , 0.        ],\n",
       "       [0.        , 0.        , 0.        , 0.        , 0.        ,\n",
       "        0.        , 0.        , 0.        , 0.        , 0.        ,\n",
       "        0.        , 0.        , 0.        , 0.        , 0.        ,\n",
       "        0.03864836, 0.22464358, 0.60871163, 0.61112716, 0.45170268,\n",
       "        0.        , 0.        , 0.        , 0.        , 0.        ,\n",
       "        0.        , 0.        , 0.        ],\n",
       "       [0.        , 0.        , 0.        , 0.        , 0.        ,\n",
       "        0.        , 0.        , 0.        , 0.        , 0.        ,\n",
       "        0.        , 0.        , 0.        , 0.        , 0.        ,\n",
       "        0.        , 0.        , 0.56810388, 0.57723004, 0.56810388,\n",
       "        0.14601867, 0.        , 0.        , 0.        , 0.        ,\n",
       "        0.        , 0.        , 0.        ],\n",
       "       [0.        , 0.        , 0.        , 0.        , 0.        ,\n",
       "        0.        , 0.        , 0.        , 0.        , 0.        ,\n",
       "        0.        , 0.        , 0.        , 0.        , 0.0973284 ,\n",
       "        0.27505852, 0.38719776, 0.53530619, 0.53530619, 0.43797779,\n",
       "        0.00423167, 0.        , 0.        , 0.        , 0.        ,\n",
       "        0.        , 0.        , 0.        ],\n",
       "       [0.        , 0.        , 0.        , 0.        , 0.        ,\n",
       "        0.        , 0.        , 0.        , 0.        , 0.        ,\n",
       "        0.        , 0.        , 0.0646848 , 0.24547053, 0.37981588,\n",
       "        0.41962191, 0.41962191, 0.41962191, 0.41464616, 0.3018624 ,\n",
       "        0.        , 0.        , 0.        , 0.        , 0.        ,\n",
       "        0.        , 0.        , 0.        ],\n",
       "       [0.        , 0.        , 0.        , 0.        , 0.        ,\n",
       "        0.        , 0.        , 0.        , 0.        , 0.        ,\n",
       "        0.03972867, 0.1887112 , 0.36583488, 0.41880645, 0.41880645,\n",
       "        0.41880645, 0.41880645, 0.33272765, 0.12911819, 0.        ,\n",
       "        0.        , 0.        , 0.        , 0.        , 0.        ,\n",
       "        0.        , 0.        , 0.        ],\n",
       "       [0.        , 0.        , 0.        , 0.        , 0.        ,\n",
       "        0.        , 0.        , 0.        , 0.03876324, 0.11123366,\n",
       "        0.35898134, 0.42639568, 0.42639568, 0.42639568, 0.42639568,\n",
       "        0.33370097, 0.13651403, 0.00337072, 0.        , 0.        ,\n",
       "        0.        , 0.        , 0.        , 0.        , 0.        ,\n",
       "        0.        , 0.        , 0.        ],\n",
       "       [0.        , 0.        , 0.        , 0.        , 0.        ,\n",
       "        0.        , 0.02927437, 0.27810651, 0.35617149, 0.41146752,\n",
       "        0.41146752, 0.41146752, 0.41146752, 0.317139  , 0.13010831,\n",
       "        0.01463718, 0.        , 0.        , 0.        , 0.        ,\n",
       "        0.        , 0.        , 0.        , 0.        , 0.        ,\n",
       "        0.        , 0.        , 0.        ],\n",
       "       [0.        , 0.        , 0.        , 0.        , 0.08516473,\n",
       "        0.26633334, 0.34994962, 0.39175776, 0.39175776, 0.39175776,\n",
       "        0.39175776, 0.37782171, 0.2059438 , 0.01703295, 0.        ,\n",
       "        0.        , 0.        , 0.        , 0.        , 0.        ,\n",
       "        0.        , 0.        , 0.        , 0.        , 0.        ,\n",
       "        0.        , 0.        , 0.        ],\n",
       "       [0.        , 0.        , 0.        , 0.        , 0.25195037,\n",
       "        0.46870179, 0.46870179, 0.46870179, 0.39274617, 0.25009779,\n",
       "        0.24454007, 0.02964122, 0.        , 0.        , 0.        ,\n",
       "        0.        , 0.        , 0.        , 0.        , 0.        ,\n",
       "        0.        , 0.        , 0.        , 0.        , 0.        ,\n",
       "        0.        , 0.        , 0.        ],\n",
       "       [0.        , 0.        , 0.        , 0.        , 0.        ,\n",
       "        0.        , 0.        , 0.        , 0.        , 0.        ,\n",
       "        0.        , 0.        , 0.        , 0.        , 0.        ,\n",
       "        0.        , 0.        , 0.        , 0.        , 0.        ,\n",
       "        0.        , 0.        , 0.        , 0.        , 0.        ,\n",
       "        0.        , 0.        , 0.        ],\n",
       "       [0.        , 0.        , 0.        , 0.        , 0.        ,\n",
       "        0.        , 0.        , 0.        , 0.        , 0.        ,\n",
       "        0.        , 0.        , 0.        , 0.        , 0.        ,\n",
       "        0.        , 0.        , 0.        , 0.        , 0.        ,\n",
       "        0.        , 0.        , 0.        , 0.        , 0.        ,\n",
       "        0.        , 0.        , 0.        ],\n",
       "       [0.        , 0.        , 0.        , 0.        , 0.        ,\n",
       "        0.        , 0.        , 0.        , 0.        , 0.        ,\n",
       "        0.        , 0.        , 0.        , 0.        , 0.        ,\n",
       "        0.        , 0.        , 0.        , 0.        , 0.        ,\n",
       "        0.        , 0.        , 0.        , 0.        , 0.        ,\n",
       "        0.        , 0.        , 0.        ]])"
      ]
     },
     "execution_count": 15,
     "metadata": {},
     "output_type": "execute_result"
    }
   ],
   "source": [
    "from keras.utils import normalize\n",
    "train_images = mnist.train_images()\n",
    "train_labels = mnist.train_labels()\n",
    "test_images = mnist.test_images()\n",
    "test_labels = mnist.test_labels()\n",
    "\n",
    "# Normalize the images.\n",
    "# train_images = (train_images / 255) - 0.5\n",
    "# test_images = (test_images / 255) - 0.5\n",
    "train_images = normalize(train_images, axis=-1, order=2)\n",
    "test_images = normalize(test_images, axis=-1, order=2)\n"
   ]
  },
  {
   "cell_type": "code",
   "execution_count": null,
   "metadata": {},
   "outputs": [],
   "source": [
    "- Интересный слои шумы, чтобы модель не переобучалась, добавлять их во время обучения"
   ]
  },
  {
   "cell_type": "code",
   "execution_count": null,
   "metadata": {},
   "outputs": [],
   "source": []
  }
 ],
 "metadata": {
  "kernelspec": {
   "display_name": "Python 3",
   "language": "python",
   "name": "python3"
  },
  "language_info": {
   "codemirror_mode": {
    "name": "ipython",
    "version": 3
   },
   "file_extension": ".py",
   "mimetype": "text/x-python",
   "name": "python",
   "nbconvert_exporter": "python",
   "pygments_lexer": "ipython3",
   "version": "3.7.3"
  }
 },
 "nbformat": 4,
 "nbformat_minor": 4
}
